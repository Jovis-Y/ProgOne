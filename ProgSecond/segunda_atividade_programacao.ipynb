{
  "nbformat": 4,
  "nbformat_minor": 0,
  "metadata": {
    "colab": {
      "provenance": []
    },
    "kernelspec": {
      "name": "python3",
      "display_name": "Python 3"
    },
    "language_info": {
      "name": "python"
    }
  },
  "cells": [
    {
      "cell_type": "markdown",
      "source": [
        "# 1° Problema\n",
        "\n",
        "\n",
        " As Organizações Tabajara resolveram dar um aumento de salário aos seus colaboradores e lhe contrataram para desenvolver o programa que calculará os reajustes.\n",
        "\n",
        ">◦ Faça um programa que recebe o salário de um colaborador e o reajuste segundo o seguinte critério, baseado no salário atual:\n",
        "\n",
        ">◦ salários até 280,00 (incluindo): aumento de 20%\n",
        "\n",
        ">◦ salários entre 280,00 e 700,00: aumento de 15%\n",
        "\n",
        ">◦ salários entre 700,00 e R$ 1500,00: aumento de 10%\n",
        "\n",
        ">◦ salários de 1500,00 em diante: aumento de 5%\n",
        "\n",
        "Após o aumento ser realizado, informe na tela:\n",
        "\n",
        "◦ o salário antes do reajuste;\n",
        "\n",
        "◦ o percentual de aumento aplicado;\n",
        "\n",
        "◦ o valor do aumento;\n",
        "\n",
        "◦ o novo salário, após o aumento. "
      ],
      "metadata": {
        "id": "4N-Jnk_aMQT_"
      }
    },
    {
      "cell_type": "code",
      "execution_count": null,
      "metadata": {
        "colab": {
          "base_uri": "https://localhost:8080/"
        },
        "id": "FLV79u6VdtqG",
        "outputId": "8cca4c29-14c6-4a4a-be64-8e24c8b04259"
      },
      "outputs": [
        {
          "output_type": "stream",
          "name": "stdout",
          "text": [
            "Insira seu salário: 2000\n",
            "Salário: 2000.0\n",
            "Percentual de aumento: %5\n",
            "Valor de aumento: 100.00\n",
            "Salário reajustado: 2100.00\n"
          ]
        }
      ],
      "source": [
        "salario = float(input(\"Insira seu salário: \"))\n",
        "\n",
        "if 0 <= salario <= 280:\n",
        "  salarioReajustado = salario * 1.2\n",
        "elif 280 < salario <= 700:\n",
        "  salarioReajustado = salario * 1.15\n",
        "elif 700 < salario <= 1500:\n",
        "  salarioReajustado = salario * 1.10\n",
        "else:\n",
        "  salarioReajustado = salario * 1.05\n",
        "\n",
        "taxa = (salarioReajustado / salario - 1) * 100\n",
        "\n",
        "print(\"\\nSalário:\", salario)\n",
        "print(f\"Percentual de aumento: %{taxa:.0f}\")\n",
        "print(f\"Valor de aumento: {taxa/100 * salario:.2f}\")\n",
        "print(f\"Salário reajustado: {salarioReajustado:.2f}\")\n"
      ]
    },
    {
      "cell_type": "markdown",
      "source": [
        "# 2° Problema\n",
        "\n",
        "\n",
        "\n",
        "Faça um programa para o cálculo de uma folha de pagamento, sabendo que os descontos são do Imposto de Renda, que depende do salário bruto (conforme tabela abaixo) e 3% para o Sindicato e que o FGTS corresponde a 11% do Salário Bruto, mas não é descontado (é a empresa que deposita). O Salário Líquido corresponde ao Salário Bruto menos os descontos. O programa deverá pedir ao usuário o valor da sua hora e a quantidade de horas trabalhadas no mês.\n",
        "\n",
        "◦ Desconto do IR:\n",
        "\n",
        "◦ Salário Bruto até 900 (inclusive) - isento\n",
        "\n",
        "◦ Salário Bruto até 1500 (inclusive) - desconto de 5%\n",
        "\n",
        "◦ Salário Bruto até 2500 (inclusive) - desconto de 10%\n",
        "\n",
        "◦ Salário Bruto acima de 2500 - desconto de 20% Imprima na tela as informações, dispostas conforme o exemplo abaixo. No exemplo o valor da hora é 5 e a quantidade de hora é 220. "
      ],
      "metadata": {
        "id": "2Z4HZkyAwi1l"
      }
    },
    {
      "cell_type": "code",
      "source": [
        "horas = float(input(\"Quantas horas de trabalho: \"))\n",
        "ganhoHora = float(input(\"Ganho por hora: \"))\n",
        "salarioBruto = horas * ganhoHora\n",
        "\n",
        "if salarioBruto > 2500:\n",
        "  taxaIR = 0.2\n",
        "elif salarioBruto > 1500:\n",
        "  taxaIR = 0.1\n",
        "elif salarioBruto > 900:\n",
        "  taxaIR = 0.05\n",
        "else:\n",
        "  taxaIR = 0\n",
        "\n",
        "salarioLiquido = salarioBruto * (1 - taxaIR - 0.1)\n",
        "\n",
        "print(f\"Salário bruto {horas} x {ganhoHora}):\", salarioBruto)\n",
        "print(\"IR:\", salarioBruto * taxaIR)\n",
        "print(\"INSS:\", salarioBruto * 0.1)\n",
        "print(\"FGTS:\", salarioBruto * 0.11)\n",
        "print(\"Total desconto:\", salarioBruto - salarioLiquido)\n",
        "print(\"Salário líquido:\", salarioLiquido)"
      ],
      "metadata": {
        "colab": {
          "base_uri": "https://localhost:8080/"
        },
        "id": "ULUpC5xmwxnO",
        "outputId": "c7dd30ab-3daa-4ff4-9695-8a87b10ec5cf"
      },
      "execution_count": 67,
      "outputs": [
        {
          "output_type": "stream",
          "name": "stdout",
          "text": [
            "Quantas horas de trabalho: 220\n",
            "Ganho por hora: 5\n",
            "Salário bruto 220.0 x 5.0): 1100.0\n",
            "IR: 55.0\n",
            "INSS: 110.0\n",
            "FGTS: 121.0\n",
            "Total desconto: 165.0\n",
            "Salário líquido: 935.0\n"
          ]
        }
      ]
    },
    {
      "cell_type": "markdown",
      "source": [
        "# 3° Problema\n",
        "\n",
        "Faça um Programa que leia um número e exiba o dia correspondente da semana. (1-Domingo, 2- Segunda, etc.), se digitar outro valor deve aparecer valor inválido. "
      ],
      "metadata": {
        "id": "yMC1az7FOJaz"
      }
    },
    {
      "cell_type": "code",
      "source": [
        "num = int(input(\"Insira um valor: \"))\n",
        "\n",
        "if 1 <= num <= 7:\n",
        "  if num == 1:\n",
        "    msg = \"Domingo\"\n",
        "  elif num == 2:\n",
        "    msg = 'Segunda-Feira'\n",
        "  elif num == 3:\n",
        "    msg = 'Terça-Feira'\n",
        "  elif num == 4:\n",
        "    msg = 'Quarta-Feira'\n",
        "  elif num == 5:\n",
        "    msg = 'Quinta-Feira'\n",
        "  elif num == 6:\n",
        "    msg = 'Sexta-Feira'\n",
        "  else:\n",
        "    msg = 'Sábado'\n",
        "  print(msg)\n",
        "else:\n",
        "  print('VALOR INVÁLIDO')\n"
      ],
      "metadata": {
        "colab": {
          "base_uri": "https://localhost:8080/"
        },
        "id": "DHzkslVFgrxO",
        "outputId": "4fcd1666-7d00-400e-9665-6e2ff7a98816"
      },
      "execution_count": null,
      "outputs": [
        {
          "output_type": "stream",
          "name": "stdout",
          "text": [
            "Insira um valor: 1\n",
            "Domingo\n"
          ]
        }
      ]
    },
    {
      "cell_type": "markdown",
      "source": [
        "# 4° Problema\n",
        "\n",
        "Faça um programa que lê as duas notas parciais obtidas por um aluno numa disciplina ao longo de um semestre, e calcule a sua média. A atribuição de conceitos obedece à tabela abaixo:\n",
        "\n",
        "Média de Aproveitamento Conceito:\n",
        "\n",
        "Entre 9.0 e 10.0 --> A \n",
        "\n",
        "Entre 7.5 e 9.0 --> B \n",
        "\n",
        "Entre 6.0 e 7.5 --> C \n",
        "\n",
        "Entre 4.0 e 6.0 --> D \n",
        "\n",
        "Entre 4.0 e zero --> E "
      ],
      "metadata": {
        "id": "xWBmcRuOR61m"
      }
    },
    {
      "cell_type": "code",
      "source": [
        "nota1 = float(input(\"Inisira a 1° nota: \"))\n",
        "nota2 = float(input(\"Inisira a 2° nota: \"))\n",
        "\n",
        "media = (nota1 + nota2) / 2\n",
        "\n",
        "if 9 <= media <= 10:\n",
        "  conceito = 'A'\n",
        "elif 7.5 <= media < 9:\n",
        "  conceito = 'B'\n",
        "elif 6 <= media < 7.5:\n",
        "  conceito = 'C'\n",
        "elif 4 <= media < 6:\n",
        "  conceito = 'D'\n",
        "elif 0 <= media < 4:\n",
        "  conceito = 'E'\n",
        "else:\n",
        "  exit(0)\n",
        "\n",
        "if conceito in \"ED\":\n",
        "  status = \"REPROVADO\"\n",
        "else:\n",
        "  status = \"APROVADO\"\n",
        "\n",
        "print(f\"\\nMédia -----> {media} \\nConceito --> {conceito} \\nSituação --> {status}\")"
      ],
      "metadata": {
        "id": "pZO2BANtvsE0",
        "colab": {
          "base_uri": "https://localhost:8080/"
        },
        "outputId": "9553a069-92db-4093-b729-8ffda1a0de72"
      },
      "execution_count": null,
      "outputs": [
        {
          "output_type": "stream",
          "name": "stdout",
          "text": [
            "Inisira a 1° nota: 6\n",
            "Inisira a 2° nota: 6\n",
            "\n",
            "Média -----> 6.0 \n",
            "Conceito --> C \n",
            "Situação --> APROVADO\n"
          ]
        }
      ]
    },
    {
      "cell_type": "markdown",
      "source": [
        "# 5° Problema\n",
        "\n",
        "Faça um Programa que peça os 3 lados de um triângulo. O programa deverá informar se os valores podem ser um triângulo. Indique, caso os lados formem um triângulo, se o mesmo é: equilátero, isósceles ou escaleno."
      ],
      "metadata": {
        "id": "vx2EFk-_STKa"
      }
    },
    {
      "cell_type": "code",
      "source": [
        "lado1 = float(input(\"Insira o valor do lado 1: \"))\n",
        "lado2 = float(input(\"Insira o valor do lado 2: \"))\n",
        "lado3 = float(input(\"Insira o valor do lado 3: \"))\n",
        "\n",
        "if lado1 + lado2 > lado3 > abs(lado1  - lado2):\n",
        "  if lado1 == lado2 == lado3:\n",
        "    print(\"Triângulo Equilátero\")\n",
        "  elif not lado1 in (lado2, lado3) and lado2 != lado3:\n",
        "    print(\"Triângulo Escaleno\")\n",
        "  else:\n",
        "    print(\"Triângulo Isóceles\")\n",
        "else:\n",
        "  print(\"Não é possível formar um triãngulo\")"
      ],
      "metadata": {
        "colab": {
          "base_uri": "https://localhost:8080/"
        },
        "id": "G0O2qKY5RCUM",
        "outputId": "802d86f0-4202-4a98-b616-d705e6d1d21a"
      },
      "execution_count": null,
      "outputs": [
        {
          "output_type": "stream",
          "name": "stdout",
          "text": [
            "Insira o valor do lado 1: 2\n",
            "Insira o valor do lado 2: 2\n",
            "Insira o valor do lado 3: 3\n",
            "Triângulo Isóceles\n"
          ]
        }
      ]
    },
    {
      "cell_type": "markdown",
      "source": [
        "# 6° Problema\n",
        "\n",
        "Faça um programa que calcule as raízes de uma equação do segundo grau, na forma ax2 + bx + c. O programa deverá pedir os valores de a, b e c e fazer as consistências, informando ao usuário nas seguintes situações:\n",
        "\n",
        "a. Se o usuário informar o valor de A igual a zero, a equação não é do segundo grau e o programa não deve fazer pedir os demais valores, sendo encerrado;\n",
        "\n",
        "b. Se o delta calculado for negativo, a equação não possui raizes reais. Informe ao usuário e encerre o programa;\n",
        "\n",
        "c. Se o delta calculado for igual a zero a equação possui apenas uma raiz real; informe-a ao usuário;\n",
        "\n",
        "d. Se o delta for positivo, a equação possui duas raizes reais; informe-as ao usuário; "
      ],
      "metadata": {
        "id": "eCt1oZHgV9c1"
      }
    },
    {
      "cell_type": "code",
      "source": [
        "a = float(input(\"Insira um valor para a: \"))\n",
        "if a == 0:\n",
        "  exit(0)\n",
        "\n",
        "else:\n",
        "  b = float(input(\"Insira um valor para b: \"))\n",
        "  c = float(input(\"Insira um valor para c: \"))\n",
        "  delta = b ** 2 - 4 * a * c\n",
        "\n",
        "  if delta < 0:\n",
        "    print(\"Essa equação não possui raízes reais\")\n",
        "\n",
        "  elif delta > 0:\n",
        "    raiz1 = (-b + delta ** 0.5) / (2 * a)\n",
        "    raiz2 = (-b - delta ** 0.5) / (2 * a)\n",
        "  \n",
        "    print(\"x_1 :\", raiz1)\n",
        "    print(\"x_2 :\", raiz2)\n",
        "\n",
        "  else:\n",
        "    raiz1 = (-b + delta ** 0.5) / (2 * a)\n",
        "    print(\"x :\", raiz1)"
      ],
      "metadata": {
        "colab": {
          "base_uri": "https://localhost:8080/"
        },
        "id": "lmOj93zLW6VG",
        "outputId": "32a8d264-8c4b-4a1c-bdbd-954fbf9c92ac"
      },
      "execution_count": null,
      "outputs": [
        {
          "name": "stdout",
          "output_type": "stream",
          "text": [
            "Insira um valor para a: 0\n"
          ]
        }
      ]
    },
    {
      "cell_type": "markdown",
      "source": [
        "# 7° Problema\n",
        "\n",
        "Faça um Programa que peça um número correspondente a um determinado ano e em seguida informe se este ano é ou não bissexto. "
      ],
      "metadata": {
        "id": "_SFgasJWajxk"
      }
    },
    {
      "cell_type": "code",
      "source": [
        "\n",
        "ano = int(input(\"Insira um ano: \"))\n",
        "\n",
        "if ano % 4 == 0:\n",
        "  if ano % 100 == 0:\n",
        "    if ano % 400:\n",
        "      msg = True\n",
        "    else:\n",
        "        msg = False\n",
        "  else:\n",
        "    msg = True\n",
        "else:\n",
        "  msg = False\n",
        "\n",
        "if msg:\n",
        "  print(\"O ano é bissexto\")\n",
        "else:\n",
        "  print(\"O ano não é bissexto\")"
      ],
      "metadata": {
        "colab": {
          "base_uri": "https://localhost:8080/"
        },
        "id": "Qs9b7Xu2a0Bg",
        "outputId": "d2755981-e38f-4820-aeb9-31c1e8810dc6"
      },
      "execution_count": null,
      "outputs": [
        {
          "output_type": "stream",
          "name": "stdout",
          "text": [
            "Insira um ano: 2004\n",
            "O ano é bissexto\n"
          ]
        }
      ]
    },
    {
      "cell_type": "markdown",
      "source": [
        "# 8° Problema\n",
        "\n",
        "Faça um Programa que peça uma data no formato dd/mm/aaaa e determine se a mesma é uma data válida. "
      ],
      "metadata": {
        "id": "_uYIQTDu3b4G"
      }
    },
    {
      "cell_type": "code",
      "source": [
        "print(\"Insira uma data no formato dd/mm/aaaa\")\n",
        "dia = int(input(\"dd: \"))\n",
        "mes = int(input(\"mm: \"))\n",
        "ano = int(input(\"aaaa: \"))\n",
        "\n",
        "if ano % 4 == 0:\n",
        "  if ano % 100 == 0:\n",
        "    if ano % 400:\n",
        "      msg = True\n",
        "    else:\n",
        "        msg = False\n",
        "  else:\n",
        "    msg = True\n",
        "else:\n",
        "  msg = False\n",
        "\n",
        "if not 0 <= ano <= 9999:\n",
        "  print(\"Data Inválida\")\n",
        "elif mes in (1,3,5,7,8,10,12) and 1<= dia <= 31:\n",
        "  print(\"Data válida\")\n",
        "elif mes in (4,6,9,11) and 1<= dia <= 30:\n",
        "  print(\"Data válida\")\n",
        "elif mes == 2:\n",
        "  if msg and 1 <= dia <= 29:\n",
        "    print(\"Data válida\")\n",
        "  elif (not msg) and 1 <= dia <= 28:\n",
        "    print(\"Data válida\")\n",
        "  else:\n",
        "    print(\"Data inválida\")\n",
        "else:\n",
        "    print(\"Data inválida\")  \n"
      ],
      "metadata": {
        "colab": {
          "base_uri": "https://localhost:8080/"
        },
        "id": "dXvGx18h3gfv",
        "outputId": "2088d01e-aba7-4294-cc8e-b5839001d459"
      },
      "execution_count": 73,
      "outputs": [
        {
          "output_type": "stream",
          "name": "stdout",
          "text": [
            "Insira uma data no formato dd/mm/aaaa\n",
            "dd: 31\n",
            "mm: 4\n",
            "aaaa: 4\n",
            "Data inválida\n"
          ]
        }
      ]
    },
    {
      "cell_type": "markdown",
      "source": [
        "# 9° Problema\n",
        "\n",
        "Faça um Programa que leia um número inteiro menor que 1000 e imprima a quantidade de centenas, dezenas e unidades do mesmo.\n",
        "\n",
        "◦ Observando os termos no plural a colocação do \"e\", da vírgula entre outros. Exemplo:\n",
        "\n",
        "◦ 326 = 3 centenas, 2 dezenas e 6 unidades\n",
        "\n",
        "◦ 12 = 1 dezena e 2 unidades\n",
        "\n",
        "Testar com: 326, 300, 100, 320, 310,305, 301, 101, 311, 111, 25, 20, 10, 21, 11, 1, 7 e 16 "
      ],
      "metadata": {
        "id": "RhzrII4_cZZL"
      }
    },
    {
      "cell_type": "code",
      "source": [
        "num = int(input(\"Insira um número: \"))\n",
        "msg = []\n",
        "\n",
        "centenas = num // 100\n",
        "dezenas = (num % 100) // 10\n",
        "unidades = num % 10\n",
        "\n",
        "if centenas > 0:\n",
        "  msg.append(f\"{centenas} centenas\")\n",
        "if dezenas > 0:\n",
        "  msg.append(f\"{dezenas} dezenas\")\n",
        "if unidades > 0:\n",
        "  msg.append(f\"{unidades} unidades\")\n",
        "\n",
        "if len(msg) == 3:\n",
        "  print(f\"{msg[0]}, {msg[1]} e {msg[2]}\") \n",
        "elif len(msg) == 2:\n",
        "  print(f\"{msg[0]} e {msg[1]}\")\n",
        "elif len(msg) == 1:\n",
        "  print(msg[0])\n",
        "else:\n",
        "  print(\"0 unidade\")\n"
      ],
      "metadata": {
        "id": "T19lvTbsdeAJ",
        "colab": {
          "base_uri": "https://localhost:8080/"
        },
        "outputId": "42b6b5e3-040c-4f95-8927-c02ada3c067e"
      },
      "execution_count": null,
      "outputs": [
        {
          "output_type": "stream",
          "name": "stdout",
          "text": [
            "Insira um número: 101\n",
            "1 centenas e 1 unidades\n"
          ]
        }
      ]
    },
    {
      "cell_type": "markdown",
      "source": [
        "# 10° Problema\n",
        "\n",
        "Faça um Programa para leitura de três notas parciais de um aluno. O programa deve calcular a média alcançada por aluno e presentar:\n",
        "\n",
        "e. A mensagem \"Aprovado\", se a média for maior ou igual a 7, com a respectiva média alcançada;\n",
        "\n",
        "f. A mensagem \"Reprovado\", se a média for menor do que 7, com a respectiva média alcançada;\n",
        "\n",
        "g. A mensagem \"Aprovado com Distinção\", se a média for igual a 10. "
      ],
      "metadata": {
        "id": "YVAq2-qZKTsx"
      }
    },
    {
      "cell_type": "code",
      "source": [
        "nota1 = float(input(\"Insira sua 1° nota: \"))\n",
        "nota2 = float(input(\"Insira sua 2° nota: \"))\n",
        "nota3 = float(input(\"Insira sua 3° nota: \"))\n",
        "\n",
        "media = (nota1 + nota2 + nota3) / 3\n",
        "\n",
        "if media == 10:\n",
        "  print(\"Aprovado com Distinção. Média:\", media)\n",
        "elif media >= 7:\n",
        "  print(\"Aprovado. Média:\", media)\n",
        "else:\n",
        "  print(\"Reprovado. Média:\", media)"
      ],
      "metadata": {
        "colab": {
          "base_uri": "https://localhost:8080/"
        },
        "id": "1uhVo2pgKven",
        "outputId": "42028f0e-86d4-444b-af9f-a701d97b6ffe"
      },
      "execution_count": null,
      "outputs": [
        {
          "output_type": "stream",
          "name": "stdout",
          "text": [
            "Insira sua 1° nota: 10\n",
            "Insira sua 2° nota: 10\n",
            "Insira sua 3° nota: 10\n",
            "Aprovado com Distinção. Média: 10.0\n"
          ]
        }
      ]
    },
    {
      "cell_type": "markdown",
      "source": [
        "# 11° Problema\n",
        "\n",
        "Faça um Programa para um caixa eletrônico. O programa deverá perguntar ao usuário a valor do saque e depois informar quantas notas de cada valor serão fornecidas. As notas disponíveis serão as de 1, 5, 10, 50 e 100 reais. O valor mínimo é de 10 reais e o máximo de 600 reais. O programa não deve se preocupar com a quantidade de notas existentes na máquina.\n",
        "\n",
        "h. Exemplo 1: Para sacar a quantia de 256 reais, o programa fornece duas notas de 100, uma nota de 50, uma nota de 5 e uma nota de 1;\n",
        "\n",
        "i. Exemplo 2: Para sacar a quantia de 399 reais, o programa fornece três notas de 100, uma nota de 50, quatro notas de 10, uma nota de 5 e quatro notas de 1. "
      ],
      "metadata": {
        "id": "DYyuRfdrL2hb"
      }
    },
    {
      "cell_type": "code",
      "source": [
        "saque = int(input(\"Insira o valor do saque: \"))\n",
        "\n",
        "if not 10 <= saque <= 600:\n",
        "  exit(0)\n",
        "else:\n",
        "  nota100 = saque // 100 \n",
        "  nota50 = (saque % 100) // 50\n",
        "  nota10 = (saque % 50) // 10\n",
        "  nota5 = (saque % 10) // 5\n",
        "  nota1 = saque % 5\n",
        "\n",
        "  print(f\"Serão fornecidas:\\n{nota100} Notas de 100 \\n{nota50} Notas de 50 \\n{nota5} Notas de 10 \\n{nota1} Notas de 1 \")"
      ],
      "metadata": {
        "colab": {
          "base_uri": "https://localhost:8080/"
        },
        "id": "59o5EkZHMBU6",
        "outputId": "b5444af9-9550-4891-975e-5b9b79e2a6e0"
      },
      "execution_count": null,
      "outputs": [
        {
          "output_type": "stream",
          "name": "stdout",
          "text": [
            "Insira o valor do saque: 100\n",
            "Serão fornecidas:\n",
            "1 Notas de 100 \n",
            "0 Notas de 50 \n",
            "0 Notas de 10 \n",
            "0 Notas de 1 \n"
          ]
        }
      ]
    },
    {
      "cell_type": "markdown",
      "source": [
        "# 12° Problema\n",
        "\n",
        "Faça um Programa que peça um número inteiro e determine se ele é par ou ímpar. Dica: utilize o operador módulo (resto da divisão). "
      ],
      "metadata": {
        "id": "2DZU8Q29RTxF"
      }
    },
    {
      "cell_type": "code",
      "source": [
        "num = int(input(\"Insira algum valor: \"))\n",
        "\n",
        "if num % 2 == 0:\n",
        "  print(f\"O valor {num} é par\")\n",
        "else:\n",
        "  print(f\"O valor {num} é ímpar\")"
      ],
      "metadata": {
        "colab": {
          "base_uri": "https://localhost:8080/"
        },
        "id": "E9SXT5c-RerO",
        "outputId": "b39d9979-2f0e-45ce-fee9-f60d6b3e4bc6"
      },
      "execution_count": null,
      "outputs": [
        {
          "output_type": "stream",
          "name": "stdout",
          "text": [
            "Insira algum valor: 3\n",
            "O valor 3 é ímpar\n"
          ]
        }
      ]
    },
    {
      "cell_type": "markdown",
      "source": [
        "# 13° Problema\n",
        "\n",
        "Faça um Programa que peça um número e informe se o número é inteiro ou decimal. Dica: utilize uma função de arredondamento."
      ],
      "metadata": {
        "id": "L-g6wlghSnvK"
      }
    },
    {
      "cell_type": "code",
      "source": [
        "num = int(input(\"Insira algum valor: \"))\n",
        "\n",
        "if int(num) == num:\n",
        "  print(\"O valor inserido é inteiro\")\n",
        "else:\n",
        "  print(\"O valor inserido é decimal\")"
      ],
      "metadata": {
        "colab": {
          "base_uri": "https://localhost:8080/"
        },
        "id": "vC_zx3cTS1TF",
        "outputId": "637c205c-95c2-40e7-f146-38c1ca95e0d5"
      },
      "execution_count": null,
      "outputs": [
        {
          "output_type": "stream",
          "name": "stdout",
          "text": [
            "Insira algum valor: 1\n",
            "O valor insirido é inteiro\n"
          ]
        }
      ]
    },
    {
      "cell_type": "markdown",
      "source": [
        "# 14° Problema\n",
        "\n",
        "Faça um Programa que leia 2 números e em seguida pergunte ao usuário qual operação ele deseja realizar. O resultado da operação deve ser acompanhado de uma frase que diga se o número é:\n",
        "\n",
        "j. par ou ímpar;\n",
        "\n",
        "k. positivo ou negativo;\n",
        "\n",
        "l. inteiro ou decimal. "
      ],
      "metadata": {
        "id": "Jm2uqXqyTZo3"
      }
    },
    {
      "cell_type": "code",
      "source": [
        "num1 = float(input(\"Inisira algum valor: \"))\n",
        "num2 = float(input(\"Inisira mais um valor: \"))\n",
        "\n",
        "opcao = int(input(\"[1] somar \\n[2] subtrair \\n[3] multiplicar \\n[4] dividir \\nEscolha alguma opção --> \"))\n",
        "\n",
        "\n",
        "if opcao == 1:\n",
        "  resultado = num1 + num2\n",
        "elif opcao == 2:\n",
        "  resultado = num1 - num2\n",
        "elif opcao == 3:\n",
        "  resultado = num1 * num2\n",
        "else:\n",
        "  resultado = num1 / num2\n",
        "\n",
        "print(f\"Propriedade do número {resultado}:\")\n",
        "\n",
        "if int(resultado) == resultado:\n",
        "  print(\"O valor inserido é inteiro,\", end=\" \")\n",
        "  if resultado % 2 == 0:\n",
        "    print(f\"par e\", end=\" \")\n",
        "  else:\n",
        "    print(f\"ímpar e\", end=\" \")\n",
        "else:\n",
        "  print(\"O valor inserido é decimal e\", end=\" \")\n",
        "\n",
        "if resultado > 0:\n",
        "  print(\"é positivo\")\n",
        "elif resultado < 0:\n",
        "  print(\"é negativo\")\n",
        "else:\n",
        "  print(\"é neutro\")\n",
        "\n"
      ],
      "metadata": {
        "id": "LuZ-a6-OTqM9",
        "colab": {
          "base_uri": "https://localhost:8080/"
        },
        "outputId": "16cf8a09-9117-45e6-915e-dba40cf34103"
      },
      "execution_count": 44,
      "outputs": [
        {
          "output_type": "stream",
          "name": "stdout",
          "text": [
            "Inisira algum valor: 0\n",
            "Inisira mais um valor: 0\n",
            "[1] somar \n",
            "[2] subtrair \n",
            "[3] multiplicar \n",
            "[4] dividir \n",
            "Escolha alguma opção --> 1\n",
            "Propriedade do número 0.0:\n",
            "O valor inserido é inteiro, par e é neutro\n"
          ]
        }
      ]
    },
    {
      "cell_type": "markdown",
      "source": [
        "# 15° Problema\n",
        "\n",
        "Faça um programa que faça 5 perguntas para uma pessoa sobre um crime. As perguntas são:\n",
        "\n",
        "m. \"Telefonou para a vítima?\"\n",
        "\n",
        "n. \"Esteve no local do crime?\"\n",
        "\n",
        "o. \"Mora perto da vítima?\"\n",
        "\n",
        "p. \"Devia para a vítima?\"\n",
        "\n",
        "q. \"Já trabalhou com a vítima?\" O programa deve no final emitir uma classificação sobre a participação da pessoa no crime. Se a pessoa responder positivamente a 2 questões ela deve ser classificada como \"Suspeita\", entre 3 e 4 como \"Cúmplice\" e 5 como \"Assassino\". Caso contrário, ele será classificado como \"Inocente\". "
      ],
      "metadata": {
        "id": "3m3bEye5bJfg"
      }
    },
    {
      "cell_type": "code",
      "source": [
        "print(\"Responda 1 para confirmar e 0 para negar\")\n",
        "indiceSuspeita = []\n",
        "\n",
        "indiceSuspeita.append(int(input(\"Telefonou para a vítima? \")))\n",
        "indiceSuspeita.append(int(input(\"Esteve no local do crime? \")))\n",
        "indiceSuspeita.append(int(input(\"Mora perto da vítima? \")))\n",
        "indiceSuspeita.append(int(input(\"Devia para a vítima? \")))\n",
        "indiceSuspeita.append(int(input(\"Já trabalhou com a vítima? \")))\n",
        "\n",
        "total = sum(indiceSuspeita)\n",
        "\n",
        "print(\"Classificação:\", end=\" \")\n",
        "if total == 5:\n",
        "  print(\"Assassino\")\n",
        "elif total in (4, 3):\n",
        "  print(\"Cúmplice\")\n",
        "elif total == 2:\n",
        "  print(\"Suspeita\")\n",
        "else:\n",
        "  print(\"Inocente\")"
      ],
      "metadata": {
        "colab": {
          "base_uri": "https://localhost:8080/"
        },
        "id": "CkV8O6QJbI8r",
        "outputId": "59df87b6-b685-4cac-dacc-c368342af137"
      },
      "execution_count": 50,
      "outputs": [
        {
          "output_type": "stream",
          "name": "stdout",
          "text": [
            "Responda 1 para confirmar e 0 para negar\n",
            "Telefonou para a vítima? 0\n",
            "Esteve no local do crime? 0\n",
            "Mora perto da vítima? 0\n",
            "Devia para a vítima? 0\n",
            "Já trabalhou com a vítima? 1\n",
            "Classificação: Inocente\n"
          ]
        }
      ]
    },
    {
      "cell_type": "markdown",
      "source": [
        "# 16° Problema\n",
        "\n",
        "Um posto está vendendo combustíveis com a seguinte tabela de descontos:\n",
        "\n",
        "r. Álcool: \n",
        "\n",
        "até 20 litros, desconto de 3% por litro\n",
        "\n",
        "t. acima de 20 litros, desconto de 5% por litro\n",
        "\n",
        "u. Gasolina:\n",
        "\n",
        "v. até 20 litros, desconto de 4% por litro\n",
        "\n",
        "w. acima de 20 litros, desconto de 6% por litro\n",
        "\n",
        "Escreva um algoritmo que leia o número de litros vendidos, o tipo de combustível (codificado da seguinte forma: A-álcool, G-gasolina), calcule e imprima o valor a ser pago pelo cliente sabendo-se que o preço do litro da gasolina é 2,50 o preço do litro do álcool é 1,90. "
      ],
      "metadata": {
        "id": "p7hOxeP_efRV"
      }
    },
    {
      "cell_type": "code",
      "source": [
        "tipo = input(\"Insira o tipo de combustível: \")\n",
        "litros = float(input(\"Insira a quantidade de litros comprados: \"))\n",
        "\n",
        "if tipo == \"A\":\n",
        "  preco = 1.90\n",
        "  taxaDesconto = 0.95 if litros > 20 else 0.97\n",
        "else:\n",
        "  preco = 2.50\n",
        "  taxaDesconto = 0.94 if litros > 20 else 0.96\n",
        "\n",
        "custo = litros * preco * taxaDesconto\n",
        "print(f\"Custo com desconto: {custo:.2f}\")"
      ],
      "metadata": {
        "colab": {
          "base_uri": "https://localhost:8080/"
        },
        "id": "Yn5YaEbPfI9i",
        "outputId": "68a705bd-6ac7-41ee-e4bb-1c821f9a9a01"
      },
      "execution_count": 51,
      "outputs": [
        {
          "output_type": "stream",
          "name": "stdout",
          "text": [
            "Insira o tipo de combustível: A\n",
            "Insira a quantidade de litros comprados: 1\n",
            "Custo com desconto: 1.843\n"
          ]
        }
      ]
    },
    {
      "cell_type": "markdown",
      "source": [
        "# 17° Problema\n",
        "\n",
        "Uma fruteira está vendendo frutas com a seguinte tabela de preços:\n",
        "\n",
        "Se o cliente comprar mais de 8 Kg em frutas ou o valor total da compra ultrapassar R$ 25,00, receberá ainda um desconto de 10% sobre este total. Escreva um algoritmo para ler a quantidade (em Kg) de morangos e a quantidade (em Kg) de maças adquiridas e escreva o valor a ser pago pelo cliente.\n"
      ],
      "metadata": {
        "id": "O6qtFdRhidvi"
      }
    },
    {
      "cell_type": "code",
      "source": [
        "kilosMorango = float(input(\"Insira a quantidade de kilos de morango: \"))\n",
        "kilosMaca = float(input(\"Insira a quantidade de kilos de maçãs: \"))\n",
        "totalKilos = kilosMorango + kilosMaca\n",
        "\n",
        "precoMorango = 2.2 if kilosMorango > 5 else 2.5\n",
        "precoMaca = 1.5 if kilosMaca > 5 else 1.80\n",
        "\n",
        "custoTotal = precoMorango * kilosMorango + precoMaca * kilosMaca\n",
        "\n",
        "custoTotal *= 0.9 if custoTotal > 25 or totalKilos > 8 else 1\n",
        "\n",
        "print(\"Custo Total:\", custoTotal)"
      ],
      "metadata": {
        "colab": {
          "base_uri": "https://localhost:8080/"
        },
        "id": "g-ITV_i1it2O",
        "outputId": "4edf82bc-fd6f-4504-f250-6dbe35726ea6"
      },
      "execution_count": 54,
      "outputs": [
        {
          "output_type": "stream",
          "name": "stdout",
          "text": [
            "Insira a quantidade de kilos de morango: 5\n",
            "Insira a quantidade de kilos de maçãs: 5\n",
            "Custo Total: 19.35\n"
          ]
        }
      ]
    },
    {
      "cell_type": "markdown",
      "source": [
        "# 18° Problema\n",
        "\n",
        "O Hipermercado Tabajara está com uma promoção de carnes que é imperdível. Confira:\n",
        "\n",
        "Para atender a todos os clientes, cada cliente poderá levar apenas um dos tipos de carne da promoção, porém não há limites para a quantidade de carne por cliente. Se compra for feita no cartão Tabajara o cliente receberá ainda um desconto de 5% sobre o total da compra. Escreva um programa que peça o tipo e a quantidade de carne comprada pelo usuário e gere um cupom fiscal, contendo as informações da compra: tipo e quantidade de carne, preço total, tipo de pagamento, valor do desconto e valor a pagar. "
      ],
      "metadata": {
        "id": "ywPsEzuQivI3"
      }
    },
    {
      "cell_type": "code",
      "source": [
        "carnes = [\"File duplo\", 'Alcatra', 'Picanha']\n",
        "tipo = int(input(\"[1] File duplo \\n[2] Alcatra \\n[3] Picanha \\nEscolha o tipo de carne --> \"))\n",
        "kilos = float(input(\"Quantos quilos: \"))\n",
        "formaPag = int(input(\"forma de pagamento será no cartão Tabajara\\n[1] sim\\n[0] não\\n--> \"))\n",
        "\n",
        "if kilos > 5:\n",
        "  preco = tipo + 4.80\n",
        "else:\n",
        "  preco = tipo + 3.90\n",
        "\n",
        "custoTotal = preco * kilos\n",
        "custoDesconto = custoTotal * 0.95 if formaPag == 1 else custoTotal\n",
        "desconto = custoTotal - custoDesconto\n",
        "formaPag = \"cartão Tabajara\" if formaPag == 1 else \"dinheiro\"\n",
        "\n",
        "print(\"Tipo de carne:\", carnes[tipo - 1])\n",
        "print(\"Kilos:\", kilos)\n",
        "print(\"Forma de pagamento:\", formaPag)\n",
        "print(\"Preço Total:\", custoTotal)\n",
        "print(f\"Valor Descontado: {desconto:.2f}\")\n",
        "print(f\"Valor a pagar: {custoDesconto:.2f}\")\n",
        "\n"
      ],
      "metadata": {
        "colab": {
          "base_uri": "https://localhost:8080/"
        },
        "id": "UiNCr-awmU0S",
        "outputId": "b24cad2e-3f65-4d5b-b140-f1a8fb30267c"
      },
      "execution_count": 61,
      "outputs": [
        {
          "output_type": "stream",
          "name": "stdout",
          "text": [
            "[1] File duplo \n",
            "[2] Alcatra \n",
            "[3] Picanha \n",
            "Escolha o tipo de carne --> 2\n",
            "Quantos quilos: 10\n",
            "forma de pagamento será no cartão Tabajara\n",
            "[1] sim\n",
            "[0] não\n",
            "--> 0\n",
            "Tipo de carne: Alcatra\n",
            "Kilos: 10.0\n",
            "Forma de pagamento: dinheiro\n",
            "Preço Total: 68.0\n",
            "Valor Descontado: 0.00\n",
            "Valor a pagar: 68.00\n"
          ]
        }
      ]
    }
  ]
}