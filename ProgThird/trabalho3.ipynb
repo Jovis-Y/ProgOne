{
  "nbformat": 4,
  "nbformat_minor": 0,
  "metadata": {
    "colab": {
      "provenance": [],
      "collapsed_sections": []
    },
    "kernelspec": {
      "name": "python3",
      "display_name": "Python 3"
    },
    "language_info": {
      "name": "python"
    }
  },
  "cells": [
    {
      "cell_type": "markdown",
      "source": [
        "![](https://imgur.com/y20UJJ9.png)"
      ],
      "metadata": {
        "id": "mKDMZcTZlvvx"
      }
    },
    {
      "cell_type": "code",
      "execution_count": null,
      "metadata": {
        "colab": {
          "base_uri": "https://localhost:8080/"
        },
        "id": "Y-XmwJ9klZDI",
        "outputId": "5ea6a254-082f-449d-d31b-fe1171610d60"
      },
      "outputs": [
        {
          "output_type": "stream",
          "name": "stdout",
          "text": [
            "Insira algum número[-1 ou menor para cancelar]: 1\n",
            "Insira algum número[-1 ou menor para cancelar]: 26\n",
            "Insira algum número[-1 ou menor para cancelar]: 51\n",
            "Insira algum número[-1 ou menor para cancelar]: 76\n",
            "Insira algum número[-1 ou menor para cancelar]: 100\n",
            "Insira algum número[-1 ou menor para cancelar]: 3\n",
            "Insira algum número[-1 ou menor para cancelar]: 65\n",
            "Insira algum número[-1 ou menor para cancelar]: 34\n",
            "Insira algum número[-1 ou menor para cancelar]: 89\n",
            "Insira algum número[-1 ou menor para cancelar]: -1\n",
            "\n",
            "Números entre:\n",
            "[0  :  25] -> 2\n",
            "[26 :  50] -> 2\n",
            "[51 :  75] -> 2\n",
            "[76 : 100] -> 3\n"
          ]
        }
      ],
      "source": [
        "dadosIntervalo = [0,0,0,0]\n",
        "\n",
        "while True:\n",
        "  num = int(input(\"Insira algum número[-1 ou menor para cancelar]: \"))\n",
        "  if num < 0:\n",
        "    break\n",
        "  elif 0 <= num <= 25:\n",
        "    dadosIntervalo[0] +=1\n",
        "  elif 26 <= num <= 50:\n",
        "    dadosIntervalo[1] +=1\n",
        "  elif 51 <= num <= 75:\n",
        "    dadosIntervalo[2] +=1\n",
        "  elif 76 <= num <= 100:\n",
        "    dadosIntervalo[3] +=1\n",
        "\n",
        "print(\"\\nNúmeros entre:\")\n",
        "print(\"[0  :  25] ->\", dadosIntervalo[0])\n",
        "print(\"[26 :  50] ->\", dadosIntervalo[1])\n",
        "print(\"[51 :  75] ->\", dadosIntervalo[2])\n",
        "print(\"[76 : 100] ->\", dadosIntervalo[3])"
      ]
    },
    {
      "cell_type": "markdown",
      "source": [
        "![](https://imgur.com/PGHGEyP.png)"
      ],
      "metadata": {
        "id": "2lUOSReel6Ad"
      }
    },
    {
      "cell_type": "code",
      "source": [
        "print(f\"Especificação {' '*6} Código {' '*6} Preço\")\n",
        "print(f\"Cachorro Quente {' '*5} 100 {' '*8} 1,20\")\n",
        "print(f\"Bauru Simples {' '*7} 101 {' '*8} 1,30\")\n",
        "print(f\"Bauru Com Ovo {' '*7} 102 {' '*8} 1,50\")\n",
        "print(f\"Hambúrguer {' '*10} 103 {' '*8} 1,20\")\n",
        "print(f\"Cheeseburguer {' '*7} 104 {' '*8} 1,30\")\n",
        "print(f\"Refrigerante {' '*8} 105 {' '*8} 1,00\")\n",
        "\n",
        "pedidos = [\"Cachorro Quente\", \"Bauru Simples\", \"Bauru Com Ovo\", \"Hambúrguer\", \"Cheeseburguer\", \"Refrigerante\"]\n",
        "precos = [1.20, 1.30, 1.50, 1.20, 1.30, 1]\n",
        "itens = []\n",
        "quantidades = [0,0,0,0,0,0]\n",
        "total = 0\n",
        "\n",
        "while True:\n",
        "  opcao = int(input(\"Insira o código do item[se digitar um valor que não seja código, iremos pedir a quantidade]: \"))\n",
        "  if not 100 <= opcao <= 105:\n",
        "    break\n",
        "  elif not opcao in itens:\n",
        "    itens.append(opcao)\n",
        "\n",
        "if len(itens) != 0:\n",
        "  for i in itens:\n",
        "    quantidades[i -100] = int(input(f\"Insira a quantidade de {pedidos[i-100]}:\"))\n",
        "  print()\n",
        "  for i in itens:\n",
        "    n = i - 100\n",
        "    subtotal = quantidades[n] * precos[n]\n",
        "    print(f\"{pedidos[n]}: {quantidades[n]} x {precos[n]} = {subtotal}\")\n",
        "    total += subtotal\n",
        "  print(\"\\nTotal:\", \"%.2f\" % total)"
      ],
      "metadata": {
        "colab": {
          "base_uri": "https://localhost:8080/"
        },
        "id": "zo-9FbX1l6dj",
        "outputId": "54ad3ccb-63e3-430b-8ebc-620a1dffc9c4"
      },
      "execution_count": null,
      "outputs": [
        {
          "output_type": "stream",
          "name": "stdout",
          "text": [
            "Especificação        Código        Preço\n",
            "Cachorro Quente       100          1,20\n",
            "Bauru Simples         101          1,30\n",
            "Bauru Com Ovo         102          1,50\n",
            "Hambúrguer            103          1,20\n",
            "Cheeseburguer         104          1,30\n",
            "Refrigerante          105          1,00\n",
            "Insira o código do item[se digitar um valor que não seja código, iremos pedir a quantidade]: 102\n",
            "Insira o código do item[se digitar um valor que não seja código, iremos pedir a quantidade]: 3\n",
            "Insira a quantidade de Bauru Com Ovo:5\n",
            "\n",
            "Bauru Com Ovo: 5 x 1.5 = 7.5\n",
            "\n",
            "Total: 7.50\n"
          ]
        }
      ]
    },
    {
      "cell_type": "markdown",
      "source": [
        "![](https://imgur.com/Sqe6t6U.png)"
      ],
      "metadata": {
        "id": "v0YWVN6yyBEL"
      }
    },
    {
      "cell_type": "code",
      "source": [
        "print(\"1 - José \\n2 - João \\n3 - Geraldo \\n4 - Mariane \\n5 - voto em Nulo \\n6 - Voto em Branco\")\n",
        "\n",
        "canditatos = [0 for i in range(6)]\n",
        "while True:\n",
        "  voto = int(input(\"Insira o código[0 ou qualquer outro valor para encerrar]: \"))\n",
        "  if not 1<= voto <= 6 :\n",
        "    break\n",
        "  canditatos[voto-1] += 1\n",
        "total = sum(canditatos)\n",
        "\n",
        "print(f\"José: {canditatos[0]}\\nJoão: {canditatos[1]}\\nGeraldo: {canditatos[2]}\\nMariane: {canditatos[3]}\")\n",
        "print(f\"Voto em Nulo: {canditatos[4]} ({canditatos[4]/total * 100:.2f}%)\\nVoto em Branco: {canditatos[5]} ({canditatos[5]/total * 100:.2f}%)\")\n"
      ],
      "metadata": {
        "colab": {
          "base_uri": "https://localhost:8080/"
        },
        "id": "ybN9n-Q1yNwV",
        "outputId": "110d8b72-c799-4aa4-af99-e84e2e7897da"
      },
      "execution_count": null,
      "outputs": [
        {
          "output_type": "stream",
          "name": "stdout",
          "text": [
            "1 - José \n",
            "2 - João \n",
            "3 - Geraldo \n",
            "4 - Mariane \n",
            "5 - voto em Nulo \n",
            "6 - Voto em Branco\n",
            "Insira o código[0 ou qualquer outro valor para encerrar]: 1\n",
            "Insira o código[0 ou qualquer outro valor para encerrar]: 2\n",
            "Insira o código[0 ou qualquer outro valor para encerrar]: 3\n",
            "Insira o código[0 ou qualquer outro valor para encerrar]: 4\n",
            "Insira o código[0 ou qualquer outro valor para encerrar]: 5\n",
            "Insira o código[0 ou qualquer outro valor para encerrar]: 6\n",
            "Insira o código[0 ou qualquer outro valor para encerrar]: 5\n",
            "Insira o código[0 ou qualquer outro valor para encerrar]: 6\n",
            "Insira o código[0 ou qualquer outro valor para encerrar]: 5\n",
            "Insira o código[0 ou qualquer outro valor para encerrar]: 6\n",
            "Insira o código[0 ou qualquer outro valor para encerrar]: 5\n",
            "Insira o código[0 ou qualquer outro valor para encerrar]: 6\n",
            "Insira o código[0 ou qualquer outro valor para encerrar]: 5\n",
            "Insira o código[0 ou qualquer outro valor para encerrar]: 6\n",
            "Insira o código[0 ou qualquer outro valor para encerrar]: 1\n",
            "Insira o código[0 ou qualquer outro valor para encerrar]: 2\n",
            "Insira o código[0 ou qualquer outro valor para encerrar]: 3\n",
            "Insira o código[0 ou qualquer outro valor para encerrar]: 6\n",
            "Insira o código[0 ou qualquer outro valor para encerrar]: 5\n",
            "Insira o código[0 ou qualquer outro valor para encerrar]: 6\n",
            "Insira o código[0 ou qualquer outro valor para encerrar]: 5\n",
            "Insira o código[0 ou qualquer outro valor para encerrar]: 0\n",
            "José: 2\n",
            "João: 2\n",
            "Geraldo: 2\n",
            "Mariane: 1\n",
            "Voto em Nulo: 7 (33.33)\n",
            "Voto em Branco: 7 (33.33)\n"
          ]
        }
      ]
    },
    {
      "cell_type": "markdown",
      "source": [
        "![](https://imgur.com/R9La8zb.png)"
      ],
      "metadata": {
        "id": "QshyxDxoGkAY"
      }
    },
    {
      "cell_type": "code",
      "source": [
        "from random import randint\n",
        "\n",
        "escolha = int(input(\"Digite 0 se deseja usar o gabarito padrão ou 1 para personalizar: \"))\n",
        "gabarito = []\n",
        "if escolha == 0:\n",
        "  gabarito = ['Aa','Bb','Cc','Dd','Ee','Ee','Dd','Cc','Bb','Aa']\n",
        "else:\n",
        "  for i in range(1, 11):\n",
        "    gabarito.append(input(f\"Digite a resposta para a questão {i}: \"))\n",
        "\n",
        "alunos = []\n",
        "acertosTotal = []\n",
        "\n",
        "while True:\n",
        "  acertosAluno = 0\n",
        "  nome = input(\"Qual seu nome: \")\n",
        "  alunos.append(nome)\n",
        "  print(\"Marque com A, B, C, D ou E\")\n",
        "\n",
        "  for indice, respostaCerta in enumerate(gabarito):\n",
        "    n = input(f\"resposta para a {indice+1}°: \")\n",
        "    acertosAluno += 1 if n in respostaCerta else 0\n",
        "  acertosTotal.append(acertosAluno)\n",
        "  \n",
        "  if int(input(\"Digite 1 se outro aluno irá realizar o teste: \")) != 1:\n",
        "    break\n",
        "\n",
        "print(\"\\nMaior acerto:\", max(acertosTotal))\n",
        "print(\"Menor acerto:\", min(acertosTotal))\n",
        "print(\"Total de alunos:\", len(alunos))\n",
        "print(\"Média:\", sum(acertosTotal) / len(alunos))"
      ],
      "metadata": {
        "id": "VMdJCHFHGXY9",
        "colab": {
          "base_uri": "https://localhost:8080/"
        },
        "outputId": "0b53a1a0-0ba3-4509-a18a-dded434769e5"
      },
      "execution_count": null,
      "outputs": [
        {
          "output_type": "stream",
          "name": "stdout",
          "text": [
            "Digite 0 se deseja usar o gabarito padrão ou 1 para personalizar: 0\n",
            "Qual seu nome: joão\n",
            "Marque com A, B, C, D ou E\n",
            "resposta para a 1°: a\n",
            "resposta para a 2°: b\n",
            "resposta para a 3°: d\n",
            "resposta para a 4°: e\n",
            "resposta para a 5°: a\n",
            "resposta para a 6°: c\n",
            "resposta para a 7°: d\n",
            "resposta para a 8°: e\n",
            "resposta para a 9°: b\n",
            "resposta para a 10°: a\n",
            "Digite 1 se outro aluno irá realizar o teste: 0\n",
            "\n",
            "Maior acerto: 5\n",
            "Menor acerto: 5\n",
            "Total de alunos: 1\n",
            "Média: 5.0\n"
          ]
        }
      ]
    },
    {
      "cell_type": "markdown",
      "source": [
        "![](https://imgur.com/OHxJm1A.png)"
      ],
      "metadata": {
        "id": "dVUIkVk5GXzW"
      }
    },
    {
      "cell_type": "code",
      "source": [
        "atletas = []\n",
        "resultadoTotal = []\n",
        "medias = []\n",
        "\n",
        "while True:\n",
        "  resultadoAtleta = []\n",
        "  nome = input(\"Insira o nome do atleta: \")\n",
        "  if nome == \"\":\n",
        "    break\n",
        "  \n",
        "  for i in range(1, 6):\n",
        "    resultadoAtleta.append(float(input(f\"Insira o resultado do {i}° salto: \")))\n",
        "  medias.append((sum(resultadoAtleta) - max(resultadoAtleta) - min(resultadoAtleta)) / 3)\n",
        "  atletas.append(nome)\n",
        "  resultadoTotal.append(resultadoAtleta)\n",
        "\n",
        "nomeMaior = len(max(atletas, key=len))\n",
        "nomeMaior = nomeMaior if nomeMaior > 7 else 7\n",
        "\n",
        "print(f\"\\nAtleta {' ' *(nomeMaior - 7) if nomeMaior > 7 else ''}| 1° | 2° | 3° | 4° | 5° | Melhor | Pior | Média\")\n",
        "for atleta, resultado in enumerate(resultadoTotal):\n",
        "  print(f\"{atletas[atleta]} {' ' *(nomeMaior - len(atletas[atleta])) if nomeMaior >= len(atletas[atleta]) else ' ' * (7 - len(atletas[atleta]))}\", end= \"\")\n",
        "  for i in resultado[0:5]:\n",
        "    print(f\"{i}  \", end='')\n",
        "  print(f\"  {max(resultado)}     {min(resultado)}    {medias[atleta]}\")\n",
        "\n",
        "print(\"\\nVencededor:\", atletas[medias.index(max(medias))])"
      ],
      "metadata": {
        "id": "AUyrpgXHIFex"
      },
      "execution_count": null,
      "outputs": []
    },
    {
      "cell_type": "markdown",
      "source": [
        "![](https://imgur.com/4rku9iq.png)"
      ],
      "metadata": {
        "id": "H5QkYPVbIF7o"
      }
    },
    {
      "cell_type": "code",
      "source": [
        "medias = []\n",
        "notasTodos = []\n",
        "nomes = []\n",
        "while True:\n",
        "  notaIndividual = []\n",
        "  nome = input(\"Insira o nome do atleta: \")\n",
        "  if nome == \"\":\n",
        "    break\n",
        "  for n in range(1, 8):\n",
        "    notaIndividual.append(float(input(f\"Insira a {n}° nota:\")))\n",
        "  medias.append((sum(notaIndividual) - max(notaIndividual) - min(notaIndividual)) / 5)\n",
        "  nomes.append(nome)\n",
        "  notasTodos.append(notaIndividual)\n",
        "\n",
        "for indice, nome in enumerate(nomes):\n",
        "  print(\"=\" * 20)\n",
        "  print(\"Atleta:\", nome)\n",
        "  print(\"Maior:\", max(notasTodos[indice]))\n",
        "  print(\"Menor:\", min(notasTodos[indice]))\n",
        "  print(\"media:\", medias[indice])\n",
        "print(\"=\" * 20)\n",
        "print(\"\\nVencededor:\", nomes[medias.index(max(medias))])"
      ],
      "metadata": {
        "id": "XhRbzrhNINwR",
        "colab": {
          "base_uri": "https://localhost:8080/"
        },
        "outputId": "bc50cb7d-bab6-43b4-db8b-bf6fa7572999"
      },
      "execution_count": null,
      "outputs": [
        {
          "output_type": "stream",
          "name": "stdout",
          "text": [
            "Insira o nome do atleta: 1\n",
            "Insira a 1° nota:1\n",
            "Insira a 2° nota:22\n",
            "Insira a 3° nota:33\n",
            "Insira a 4° nota:43\n",
            "Insira a 5° nota:23\n",
            "Insira a 6° nota:21\n",
            "Insira a 7° nota:2\n",
            "Insira o nome do atleta: \n",
            "====================\n",
            "Atleta: 1\n",
            "Maior: 43.0\n",
            "Menor: 1.0\n",
            "media: 20.2\n",
            "====================\n",
            "\n",
            "Vencededor: 1\n"
          ]
        }
      ]
    },
    {
      "cell_type": "markdown",
      "source": [
        "![](https://imgur.com/jWwkw0N.png)"
      ],
      "metadata": {
        "id": "HrN_jsfWIOJO"
      }
    },
    {
      "cell_type": "code",
      "source": [
        "abonos = []\n",
        "salarios = []\n",
        "while True:\n",
        "  salario = float(input(\"Digite o salário: \"))\n",
        "  if salario == 0:\n",
        "    break\n",
        "  salarios.append(salario)\n",
        "  abonos.append(100 if salario < 500 else salario * 0.2)\n",
        "\n",
        "for funcionario, abono in enumerate(abonos):\n",
        "  print(f\"{funcionario+1}° colaborador: {salarios[funcionario]} ---> {abono:.2f}\")\n",
        "\n",
        "print(\"\\nTotal de colaboradores:\", len(salarios))\n",
        "print(\"Valor gasto com abonos:\", sum(abonos))\n",
        "print(f\"Valor mínimo pago a {abonos.count(100)} colaboradores\")\n",
        "print(\"Maior valor de abono pago:\", max(abonos))\n"
      ],
      "metadata": {
        "id": "iETdHfMCIamz",
        "colab": {
          "base_uri": "https://localhost:8080/"
        },
        "outputId": "2904c461-1734-45d1-c2a6-b9173d43b354"
      },
      "execution_count": 6,
      "outputs": [
        {
          "output_type": "stream",
          "name": "stdout",
          "text": [
            "Digite o salário: 123\n",
            "Digite o salário: 1234\n",
            "Digite o salário: 1234456\n",
            "Digite o salário: 23\n",
            "Digite o salário: 34\n",
            "Digite o salário: 56\n",
            "Digite o salário: 67\n",
            "Digite o salário: 89\n",
            "Digite o salário: 54\n",
            "Digite o salário: 4\n",
            "Digite o salário: 7777\n",
            "Digite o salário: 0\n",
            "0° colaborador: 123.0 ---> 100.00\n",
            "1° colaborador: 1234.0 ---> 246.80\n",
            "2° colaborador: 1234456.0 ---> 246891.20\n",
            "3° colaborador: 23.0 ---> 100.00\n",
            "4° colaborador: 34.0 ---> 100.00\n",
            "5° colaborador: 56.0 ---> 100.00\n",
            "6° colaborador: 67.0 ---> 100.00\n",
            "7° colaborador: 89.0 ---> 100.00\n",
            "8° colaborador: 54.0 ---> 100.00\n",
            "9° colaborador: 4.0 ---> 100.00\n",
            "10° colaborador: 7777.0 ---> 1555.40\n",
            "Total de colaboradores: 11\n",
            "Valor gasto com abonos: 249493.4\n",
            "Valor mínimo pago a 8 colaboradores\n",
            "Maior valor de abono pago: 246891.2\n"
          ]
        }
      ]
    },
    {
      "cell_type": "markdown",
      "source": [
        "![](https://imgur.com/L3SPUdE.png)"
      ],
      "metadata": {
        "id": "dZRUrWWzIbRB"
      }
    },
    {
      "cell_type": "code",
      "source": [
        "carros = [\"Renault Kwid\", \"Peugeot 208 1.0\", \"Hyundai HB20S 1.0 Turbo\", \"Chevrolet Onix Plus 1.0\", \"Fiat Argo 1.0\"]\n",
        "consumoCarros = [15.3, 14.7, 14.3, 13.8, 14.1]\n",
        "\n",
        "for indice, carro in enumerate(carros):\n",
        "  espaco = ' '*(25 -len(carro))\n",
        "  consumo = consumoCarros[indice]\n",
        "  print(f\"{carro}:{espaco}{consumo} kms por litro | {1000/consumo:.2f} litros consumidos em 1000 km | gasto: {1000/consumo * 2.25:.2f} reais\")\n",
        "\n",
        "print(\"\\nCarro mais econômico:\", carros[consumoCarros.index(max(consumoCarros))])\n"
      ],
      "metadata": {
        "id": "xj9xPrkpIreV",
        "colab": {
          "base_uri": "https://localhost:8080/"
        },
        "outputId": "0feb0e39-0515-4fe9-eac0-cb94684831f3"
      },
      "execution_count": 19,
      "outputs": [
        {
          "output_type": "stream",
          "name": "stdout",
          "text": [
            "Renault Kwid:             15.3 kms por litro | 65.36 litros consumidos em 1000 km | gasto: 147.06 reais\n",
            "Peugeot 208 1.0:          14.7 kms por litro | 68.03 litros consumidos em 1000 km | gasto: 153.06 reais\n",
            "Hyundai HB20S 1.0 Turbo:  14.3 kms por litro | 69.93 litros consumidos em 1000 km | gasto: 157.34 reais\n",
            "Chevrolet Onix Plus 1.0:  13.8 kms por litro | 72.46 litros consumidos em 1000 km | gasto: 163.04 reais\n",
            "Fiat Argo 1.0:            14.1 kms por litro | 70.92 litros consumidos em 1000 km | gasto: 159.57 reais\n",
            "\n",
            "Carro mais econômico: Renault Kwid\n"
          ]
        }
      ]
    },
    {
      "cell_type": "markdown",
      "source": [
        "![](https://imgur.com/hZaR76e.png)"
      ],
      "metadata": {
        "id": "DY57fw6FIry1"
      }
    },
    {
      "cell_type": "code",
      "source": [
        "quantidadeMouses = [0,0,0,0]\n",
        "\n",
        "print(\"[1] necessita da esfera \\n[2] necessita de limpeza \\n[3] necessita troca do cabo ou conector \\n[4] quebrado ou inutilizado\")\n",
        "while True:\n",
        "  codigo = int(input(\"Insira o código: \"))\n",
        "  if not 1 <= codigo <= 4:\n",
        "    break\n",
        "  quantidadeMouses[codigo-1] += 1\n",
        "total = sum(quantidadeMouses)\n",
        "\n",
        "print(\"Quantidade de mouses:\", total)\n",
        "print(\"Situação                                  quantidade         percentual\")\n",
        "print(f\"1- necessita da esfera                       {quantidadeMouses[0]}                  {quantidadeMouses[0]/total * 100:.2f}%\")\n",
        "print(f\"2- necessita de limpeza                      {quantidadeMouses[1]}                  {quantidadeMouses[1]/total * 100:.2f}%\")\n",
        "print(f\"3- necessita troca do cabo ou conector       {quantidadeMouses[2]}                  {quantidadeMouses[2]/total * 100:.2f}%\")\n",
        "print(f\"4- quebrado ou inutilizado                   {quantidadeMouses[3]}                  {quantidadeMouses[3]/total * 100:.2f}%\")"
      ],
      "metadata": {
        "id": "XxSWDCdwIzLJ",
        "colab": {
          "base_uri": "https://localhost:8080/"
        },
        "outputId": "6b8aea1a-4a10-43d8-8069-88df64ff2c29"
      },
      "execution_count": 21,
      "outputs": [
        {
          "output_type": "stream",
          "name": "stdout",
          "text": [
            "[1] necessita da esfera \n",
            "[2] necessita de limpeza \n",
            "[3] necessita troca do cabo ou conector \n",
            "[4] quebrado ou inutilizado\n",
            "Insira o código: 1\n",
            "Insira o código: 12\n",
            "Quantidade de mouses: 1\n",
            "Situação                                  quantidade         percentual\n",
            "1- necessita da esfera                       1                  100.00%\n",
            "2- necessita de limpeza                      0                  0.00%\n",
            "3- necessita troca do cabo ou conector       0                  0.00%\n",
            "4- quebrado ou inutilizado                   0                  0.00%\n"
          ]
        }
      ]
    },
    {
      "cell_type": "markdown",
      "source": [
        "![](https://imgur.com/4K7QrTy.png)"
      ],
      "metadata": {
        "id": "Tjyk_aPFIzk8"
      }
    },
    {
      "cell_type": "code",
      "source": [
        "def byteToMb(byte):\n",
        "  return f\"{byte * 9.5367432 * 1e-7:.2f} Mb\"\n",
        "\n",
        "def convertToPercent(value, total):\n",
        "  return f\"{value/total * 100 :.2f}%\"\n",
        "\n",
        "userArchive = open(\"usuarios.txt\")\n",
        "relatorio = open(\"relatorio.txt\", 'w')\n",
        "lines = userArchive.readlines()\n",
        "userArchive.close()\n",
        "users, bytesUser = [], []\n",
        "\n",
        "for i in lines:\n",
        "  n = i.split()\n",
        "  users.append(n[0])\n",
        "  bytesUser.append(int(n[1]))\n",
        "\n",
        "relatorio.write(f\"ACME  Inc. {' '*30}Uso do espaço em disco pelo usuários\\n\")\n",
        "relatorio.write(\"-\" * 77 + '\\n')\n",
        "relatorio.write(f\"Nr{' '*10}usuário{' '*22}Espaço ultilizado{' '*11}% do uso\\n\")\n",
        "\n",
        "for n in range(6):\n",
        "  espaco = ' ' * (29 - len(users[n]))\n",
        "  espaco2 = ' ' * (30 - len(byteToMb(bytesUser[n])))\n",
        "  byte = byteToMb(bytesUser[n])\n",
        "  usuario = users[n]\n",
        "  percent = convertToPercent(bytesUser[n], sum(bytesUser))\n",
        "  \n",
        "  relatorio.write(f\"{n+1}{' '*11}{usuario}{espaco}{byte}{espaco2}{percent}\\n\")\n",
        "\n",
        "relatorio.write(f\"Espaço total ocupado: {byteToMb(sum(bytesUser))}\")\n",
        "relatorio.write(f\"\\nEspaço médio: {byteToMb(sum(bytesUser)/6)}\")"
      ],
      "metadata": {
        "id": "JhtcPUJqI8B1",
        "colab": {
          "base_uri": "https://localhost:8080/"
        },
        "outputId": "48fbc939-6841-44ee-ee18-f9a83b584357"
      },
      "execution_count": 70,
      "outputs": [
        {
          "output_type": "execute_result",
          "data": {
            "text/plain": [
              "24"
            ]
          },
          "metadata": {},
          "execution_count": 70
        }
      ]
    },
    {
      "cell_type": "code",
      "source": [],
      "metadata": {
        "id": "j8wTgipnH-U7"
      },
      "execution_count": null,
      "outputs": []
    }
  ]
}